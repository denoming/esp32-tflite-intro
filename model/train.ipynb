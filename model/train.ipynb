{
 "cells": [
  {
   "cell_type": "markdown",
   "id": "e5b7a76d-dea8-43a9-8911-c28413f1eb0b",
   "metadata": {},
   "source": [
    "# Preamble\n",
    "\n",
    "This notebook will train a very simple model that will compare two numbers and tell us if one is larger than the other."
   ]
  },
  {
   "cell_type": "code",
   "execution_count": 9,
   "id": "a39008f4-5e3a-4cd6-9f42-56712bfe2fc0",
   "metadata": {},
   "outputs": [],
   "source": [
    "import tensorflow as tf\n",
    "from tensorflow.keras.models import Sequential\n",
    "from tensorflow.keras.layers import Dense\n",
    "from tensorflow.keras.layers import InputLayer\n",
    "from tensorflow.data import Dataset\n",
    "import numpy as np\n",
    "import itertools"
   ]
  },
  {
   "cell_type": "markdown",
   "id": "fc1cfd97-1a97-4ad1-8a63-36f49342e6a0",
   "metadata": {},
   "source": [
    "# Create a dataset to train model"
   ]
  },
  {
   "cell_type": "code",
   "execution_count": 10,
   "id": "b716a2ed-4756-46ae-9e24-f4a16b94bef5",
   "metadata": {},
   "outputs": [],
   "source": [
    "def data_generator():\n",
    "    while(True):\n",
    "        number1 = np.random.uniform();\n",
    "        number2 = np.random.uniform();\n",
    "        # Our input data is an array containing 2 numbers\n",
    "        X = [number1, number2]\n",
    "        # Our label is 1 or 0\n",
    "        Y = 1 if number2 > number1 else 0\n",
    "        # Our generator should return the input data and the label\n",
    "        yield X, [Y]\n",
    "        \n",
    "# Create a dataset from our generator\n",
    "train_dataset = tf.data.Dataset.from_generator(\n",
    "    data_generator, \n",
    "    output_types = (tf.float32, tf.int32),\n",
    "    output_shapes=((2), (1))\n",
    ")\n",
    "train_dataset = train_dataset.batch(batch_size=50)"
   ]
  },
  {
   "cell_type": "markdown",
   "id": "91aed470-54ff-4898-812a-6455f1568d80",
   "metadata": {},
   "source": [
    "# Define model\n",
    "\n",
    "Model consist of input and output layers.\n",
    "The activation function for output is sigmoid. It will output a value between `0` and `1`."
   ]
  },
  {
   "cell_type": "code",
   "execution_count": 11,
   "id": "9362848b-c1d6-4ee7-95f1-d65fecd7504b",
   "metadata": {},
   "outputs": [],
   "source": [
    "model = Sequential([\n",
    "    InputLayer(input_shape=(2)),\n",
    "    Dense(5, activation='relu'),\n",
    "    Dense(1, activation='sigmoid')\n",
    "])"
   ]
  },
  {
   "cell_type": "markdown",
   "id": "73bae868-cb88-4150-a84c-7693b4ba4397",
   "metadata": {},
   "source": [
    "# Compile model\n",
    "\n",
    "For our loss function we need to use `BinaryCrossentropy`.\n",
    "Crossentropy quantifies the difference between two probability distribution.\n",
    "We have a binary distribution (`True` or `False`) so we use binary crossentropy to compare the output from our model with the true distribution."
   ]
  },
  {
   "cell_type": "code",
   "execution_count": 12,
   "id": "3c266f4d-cd57-4f8a-9b0f-163a770aa86b",
   "metadata": {},
   "outputs": [
    {
     "name": "stdout",
     "output_type": "stream",
     "text": [
      "Model: \"sequential_1\"\n",
      "_________________________________________________________________\n",
      "Layer (type)                 Output Shape              Param #   \n",
      "=================================================================\n",
      "dense_2 (Dense)              (None, 5)                 15        \n",
      "_________________________________________________________________\n",
      "dense_3 (Dense)              (None, 1)                 6         \n",
      "=================================================================\n",
      "Total params: 21\n",
      "Trainable params: 21\n",
      "Non-trainable params: 0\n",
      "_________________________________________________________________\n"
     ]
    }
   ],
   "source": [
    "model.compile(optimizer='adam',\n",
    "              loss=tf.keras.losses.BinaryCrossentropy(),\n",
    "              metrics=['accuracy'])\n",
    "\n",
    "model.summary()"
   ]
  },
  {
   "cell_type": "code",
   "execution_count": 13,
   "id": "70e8ebe7-c3c5-4e6e-ab1e-3b44c9ba8441",
   "metadata": {},
   "outputs": [
    {
     "name": "stdout",
     "output_type": "stream",
     "text": [
      "Epoch 1/5\n",
      "1000/1000 [==============================] - 9s 9ms/step - loss: 0.4937 - accuracy: 0.9563\n",
      "Epoch 2/5\n",
      "1000/1000 [==============================] - 10s 10ms/step - loss: 0.2092 - accuracy: 0.9949\n",
      "Epoch 3/5\n",
      "1000/1000 [==============================] - 10s 10ms/step - loss: 0.1292 - accuracy: 0.9964\n",
      "Epoch 4/5\n",
      "1000/1000 [==============================] - 10s 10ms/step - loss: 0.0970 - accuracy: 0.9977\n",
      "Epoch 5/5\n",
      "1000/1000 [==============================] - 10s 10ms/step - loss: 0.0779 - accuracy: 0.9972\n"
     ]
    },
    {
     "data": {
      "text/plain": [
       "<tensorflow.python.keras.callbacks.History at 0x7f97c3ff2190>"
      ]
     },
     "execution_count": 13,
     "metadata": {},
     "output_type": "execute_result"
    }
   ],
   "source": [
    "model.fit(\n",
    "    train_dataset,\n",
    "    steps_per_epoch=1000,\n",
    "    epochs=5\n",
    ")"
   ]
  },
  {
   "cell_type": "markdown",
   "id": "78738ea8-dcc6-4611-b007-e7a3be6d5341",
   "metadata": {},
   "source": [
    "# Testing model\n",
    "\n",
    "We are going to feed in some values and see what our model predicts."
   ]
  },
  {
   "cell_type": "code",
   "execution_count": 14,
   "id": "68b8a90a-16df-4b2f-a8dc-7176b58b6a9d",
   "metadata": {},
   "outputs": [
    {
     "name": "stdout",
     "output_type": "stream",
     "text": [
      "[[0.91]\n",
      " [0.91]\n",
      " [0.00]\n",
      " [0.00]]\n"
     ]
    }
   ],
   "source": [
    "test_x = np.array([\n",
    "    [0.1, 0.2],\n",
    "    [0.3, 0.4],\n",
    "    [0.5, 0.1],\n",
    "    [0.7, 0.2]\n",
    "])\n",
    "y = model.predict_on_batch(test_x)\n",
    "np.set_printoptions(formatter={'float': lambda x: \"{0:0.2f}\".format(x)})\n",
    "print(y)"
   ]
  },
  {
   "cell_type": "markdown",
   "id": "aa545a51-0225-4b85-b971-04bde67da5f5",
   "metadata": {},
   "source": [
    "# Export model\n",
    "\n",
    "Before use model we need to convert model into a tflite model"
   ]
  },
  {
   "cell_type": "code",
   "execution_count": 15,
   "id": "2823ee84-9346-4e3b-a126-e5324ec234de",
   "metadata": {},
   "outputs": [
    {
     "name": "stdout",
     "output_type": "stream",
     "text": [
      "INFO:tensorflow:Assets written to: /tmp/tmppsh9q1rp/assets\n"
     ]
    },
    {
     "name": "stderr",
     "output_type": "stream",
     "text": [
      "INFO:tensorflow:Assets written to: /tmp/tmppsh9q1rp/assets\n"
     ]
    },
    {
     "data": {
      "text/plain": [
       "2024"
      ]
     },
     "execution_count": 15,
     "metadata": {},
     "output_type": "execute_result"
    }
   ],
   "source": [
    "converter = tf.lite.TFLiteConverter.from_keras_model(model)\n",
    "converter.optimizations = [tf.lite.Optimize.DEFAULT]\n",
    "\n",
    "def representative_dataset_gen():\n",
    "    for _ in range(10000):\n",
    "        yield [\n",
    "            np.array(\n",
    "                [np.random.uniform(), np.random.uniform()]\n",
    "            , dtype=np.float32)\n",
    "        ]\n",
    "\n",
    "converter.representative_dataset = representative_dataset_gen\n",
    "converter.target_spec.supported_ops = [tf.lite.OpsSet.TFLITE_BUILTINS_INT8]\n",
    "\n",
    "tflite_quant_model = converter.convert()\n",
    "open(\"model.tflite\", \"wb\").write(tflite_quant_model)"
   ]
  },
  {
   "cell_type": "markdown",
   "id": "75cd4278-aa53-42ac-9884-576149edb9ab",
   "metadata": {},
   "source": [
    "Now we can convert model to the C code:\n",
    "```\n",
    "$ xxd -i model.tflite > model.cc\n",
    "```"
   ]
  }
 ],
 "metadata": {
  "kernelspec": {
   "display_name": "Python 3",
   "language": "python",
   "name": "python3"
  },
  "language_info": {
   "codemirror_mode": {
    "name": "ipython",
    "version": 3
   },
   "file_extension": ".py",
   "mimetype": "text/x-python",
   "name": "python",
   "nbconvert_exporter": "python",
   "pygments_lexer": "ipython3",
   "version": "3.9.7"
  }
 },
 "nbformat": 4,
 "nbformat_minor": 5
}
